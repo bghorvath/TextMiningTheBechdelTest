{
 "cells": [
  {
   "cell_type": "markdown",
   "metadata": {},
   "source": [
    "# Information extraction from movie scripts to explore long-term trend of female representation in movies according to the Bechdel test"
   ]
  },
  {
   "cell_type": "markdown",
   "metadata": {},
   "source": [
    "### Install packages"
   ]
  },
  {
   "cell_type": "code",
   "execution_count": null,
   "metadata": {},
   "outputs": [],
   "source": [
    "## Install packages packages\n",
    "!python -m pip install pandas \n",
    "!python -m pip install selenium\n",
    "!python -m pip install requests\n",
    "!python -m pip install matplotlib\n",
    "!python -m pip install striprtf\n",
    "!python -m pip install pdfminer\n",
    "!python -m pip install spacy==2.3.5\n",
    "!python -m spacy download en_core_web_sm\n",
    "\n",
    "## Install neuralcoref from source (because of dependency issues)\n",
    "!git clone https://github.com/huggingface/neuralcoref.git other\n",
    "!python -m pip install -r other/neuralcoref/requirements.txt\n",
    "!python -m pip install -e other/neuralcoref/."
   ]
  },
  {
   "cell_type": "markdown",
   "metadata": {},
   "source": [
    "### Selenium (thus simplyscripts.py and scriptparser.py) uses Chrome webdriver which requires Google Chrome to be installed. Working version of the webdriver should be downloaded from: https://chromedriver.chromium.org/downloads\n",
    "### Scriptprocessing.py uses \"catdoc\" and \"qpdf\" Linux software to convert .doc files into .txt, and to decrypt copy-restricted .pdf files, respectively.\n",
    "### However, the provided data already contains the preprocessed scripts, which makes these processing steps unnecessary."
   ]
  },
  {
   "cell_type": "markdown",
   "metadata": {},
   "source": [
    "### Scrape SimplyScripts for script download links"
   ]
  },
  {
   "cell_type": "code",
   "execution_count": null,
   "metadata": {},
   "outputs": [],
   "source": [
    "!python simplyscripts.py"
   ]
  },
  {
   "cell_type": "markdown",
   "metadata": {},
   "source": [
    "### Preprocess download links dataframe"
   ]
  },
  {
   "cell_type": "code",
   "execution_count": null,
   "metadata": {},
   "outputs": [],
   "source": [
    "!python preprocessing.py"
   ]
  },
  {
   "cell_type": "markdown",
   "metadata": {},
   "source": [
    "### Download and / or scrape scripts"
   ]
  },
  {
   "cell_type": "code",
   "execution_count": null,
   "metadata": {},
   "outputs": [],
   "source": [
    "!python scriptparser.py"
   ]
  },
  {
   "cell_type": "markdown",
   "metadata": {},
   "source": [
    "### Process script files, convert everything to txt, filter out scripts by length"
   ]
  },
  {
   "cell_type": "code",
   "execution_count": null,
   "metadata": {},
   "outputs": [],
   "source": [
    "!python scriptprocessing.py"
   ]
  },
  {
   "cell_type": "markdown",
   "metadata": {},
   "source": [
    "### Process script data, split into paragraphs and dialogues"
   ]
  },
  {
   "cell_type": "code",
   "execution_count": null,
   "metadata": {},
   "outputs": [],
   "source": [
    "!python dialogues.py"
   ]
  },
  {
   "cell_type": "markdown",
   "metadata": {},
   "source": [
    "### Resolve coreferences, create coreference dictionary and dataset of gendered dialogues"
   ]
  },
  {
   "cell_type": "code",
   "execution_count": null,
   "metadata": {},
   "outputs": [],
   "source": [
    "!python coref_gender.py"
   ]
  },
  {
   "cell_type": "markdown",
   "metadata": {},
   "source": [
    "### Collect female conversations, get topic of conversation - apply Bechdel test"
   ]
  },
  {
   "cell_type": "code",
   "execution_count": null,
   "metadata": {},
   "outputs": [],
   "source": [
    "!python bechdel.py"
   ]
  },
  {
   "cell_type": "markdown",
   "metadata": {},
   "source": [
    "### Perform analysis on the Bechdel dataset"
   ]
  },
  {
   "cell_type": "code",
   "execution_count": null,
   "metadata": {},
   "outputs": [],
   "source": [
    "!python analysis.py"
   ]
  }
 ],
 "metadata": {
  "kernelspec": {
   "display_name": "Python 3.9.5 64-bit ('bechdel': pyenv)",
   "name": "python395jvsc74a57bd09dccf8db4430d8f6688d1d35e5a2523cf71b9c0a1cc96001bd90e9ffa514f162"
  },
  "language_info": {
   "name": "python",
   "version": ""
  },
  "metadata": {
   "interpreter": {
    "hash": "9dccf8db4430d8f6688d1d35e5a2523cf71b9c0a1cc96001bd90e9ffa514f162"
   }
  },
  "orig_nbformat": 2
 },
 "nbformat": 4,
 "nbformat_minor": 2
}